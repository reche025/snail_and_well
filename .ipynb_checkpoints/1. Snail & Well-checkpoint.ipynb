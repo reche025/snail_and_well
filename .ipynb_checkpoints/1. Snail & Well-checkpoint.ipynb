{
 "cells": [
  {
   "cell_type": "code",
   "execution_count": 2,
   "metadata": {},
   "outputs": [
    {
     "name": "stdout",
     "output_type": "stream",
     "text": [
      "Part 1:\n",
      "\n",
      "Days = 11\n"
     ]
    }
   ],
   "source": [
    "#Snail and Well\n",
    "print(\"Part 1:\\n\")\n",
    "\n",
    "well_height = 125\n",
    "daily_advance = 30\n",
    "nightly_retreat = 20\n",
    "accumulated_distance = 0\n",
    "days = 0\n",
    "\n",
    "while accumulated_distance < well_height:\n",
    "  days += 1\n",
    "  accumulated_distance += daily_advance\n",
    "  if accumulated_distance < well_height:\n",
    "    accumulated_distance -= nightly_retreat\n",
    "  elif accumulated_distance > well_height:\n",
    "    print(\"Days =\", days)"
   ]
  },
  {
   "cell_type": "code",
   "execution_count": 3,
   "metadata": {},
   "outputs": [
    {
     "name": "stdout",
     "output_type": "stream",
     "text": [
      "Part 2:\n",
      "\n",
      "It took the snail 6 days to escape\n",
      "\n",
      "Bonus Stats Results:\n",
      "\n",
      "Maximum Displacement: 77\n",
      "\n",
      "Minimum Displacement: 21\n",
      "\n",
      "Average Speed: 41.67\n",
      "\n",
      "Standard Deviation: 19.51\n"
     ]
    }
   ],
   "source": [
    "print(\"Part 2:\")\n",
    "\n",
    "well_height = 125\n",
    "advance_cm = [30, 21, 33, 77, 44, 45, 23, 45, 12, 34, 55]\n",
    "x = 0\n",
    "daily_advance = advance_cm[x]\n",
    "nightly_retreat = 20\n",
    "accumulated_distance = 0\n",
    "days = 0\n",
    "\n",
    "#Running the calculation loop\n",
    "while accumulated_distance < well_height:\n",
    "  days += 1\n",
    "  daily_advance = advance_cm[x]\n",
    "  accumulated_distance += daily_advance\n",
    "  if accumulated_distance <= well_height:\n",
    "    x += 1\n",
    "    accumulated_distance -= nightly_retreat\n",
    "  elif accumulated_distance > well_height:\n",
    "    print(\"\\nIt took the snail\", days, \"days to escape\")\n",
    "\n",
    "#Setting list according to prior calculation\n",
    "distances_traveled = []\n",
    "\n",
    "#Pre-Calculations problem stats\n",
    "while len(distances_traveled) <= x:\n",
    "  distances_traveled.append(advance_cm.pop(0))\n",
    "\n",
    "import statistics\n",
    "\n",
    "maximum_displacement = max(distances_traveled)\n",
    "minimum_displacement = min(distances_traveled)\n",
    "average_speed = sum(distances_traveled)/len(distances_traveled)\n",
    "standard_deviation = statistics.stdev(distances_traveled)\n",
    "\n",
    "#Printing Results\n",
    "print(\"\\nBonus Stats Results:\")\n",
    "print(\"\\nMaximum Displacement:\", maximum_displacement)\n",
    "print(\"\\nMinimum Displacement:\", minimum_displacement)\n",
    "print(\"\\nAverage Speed:\", round(average_speed, 2))\n",
    "print(\"\\nStandard Deviation:\", round(standard_deviation, 2))"
   ]
  },
  {
   "cell_type": "code",
   "execution_count": null,
   "metadata": {},
   "outputs": [],
   "source": []
  },
  {
   "cell_type": "code",
   "execution_count": null,
   "metadata": {},
   "outputs": [],
   "source": []
  }
 ],
 "metadata": {
  "kernelspec": {
   "display_name": "Python 3",
   "language": "python",
   "name": "python3"
  },
  "language_info": {
   "codemirror_mode": {
    "name": "ipython",
    "version": 3
   },
   "file_extension": ".py",
   "mimetype": "text/x-python",
   "name": "python",
   "nbconvert_exporter": "python",
   "pygments_lexer": "ipython3",
   "version": "3.7.3"
  }
 },
 "nbformat": 4,
 "nbformat_minor": 2
}
